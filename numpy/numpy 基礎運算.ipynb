{
 "cells": [
  {
   "cell_type": "markdown",
   "metadata": {},
   "source": [
    "基礎運算1"
   ]
  },
  {
   "cell_type": "code",
   "execution_count": 2,
   "metadata": {},
   "outputs": [
    {
     "name": "stdout",
     "output_type": "stream",
     "text": [
      "[10 20 30 40] [0 1 2 3]\n",
      "[10 21 32 43]\n"
     ]
    }
   ],
   "source": [
    "import numpy as np\n",
    "a = np.array([10,20,30,40])\n",
    "b = np.arange(4)\n",
    "\n",
    "print(a,b)\n",
    "c=a+b\n",
    "print(c)"
   ]
  },
  {
   "cell_type": "code",
   "execution_count": 5,
   "metadata": {},
   "outputs": [
    {
     "name": "stdout",
     "output_type": "stream",
     "text": [
      "[-8.39071529  4.08082062  1.5425145  -6.66938062]\n"
     ]
    }
   ],
   "source": [
    "import numpy as np\n",
    "a = np.array([10,20,30,40])\n",
    "b = np.arange(4)\n",
    "\n",
    "c=10*np.cos(a)\n",
    "print(c)"
   ]
  },
  {
   "cell_type": "code",
   "execution_count": 8,
   "metadata": {},
   "outputs": [
    {
     "name": "stdout",
     "output_type": "stream",
     "text": [
      "[0 1 2 3]\n",
      "[ True  True  True False]\n"
     ]
    }
   ],
   "source": [
    "import numpy as np\n",
    "a = np.array([10,20,30,40])\n",
    "b = np.arange(4)\n",
    "\n",
    "print(b)\n",
    "print(b<3)"
   ]
  },
  {
   "cell_type": "code",
   "execution_count": 9,
   "metadata": {},
   "outputs": [
    {
     "name": "stdout",
     "output_type": "stream",
     "text": [
      "[[1 1]\n",
      " [0 1]]\n",
      "[[0 1]\n",
      " [2 3]]\n"
     ]
    }
   ],
   "source": [
    "import numpy as np\n",
    "a = np.array([[1,1],\n",
    "              [0,1]])\n",
    "b = np.arange(4).reshape((2,2))\n",
    "\n",
    "print(a)\n",
    "print(b)"
   ]
  },
  {
   "cell_type": "code",
   "execution_count": 12,
   "metadata": {},
   "outputs": [
    {
     "name": "stdout",
     "output_type": "stream",
     "text": [
      "[[0 1]\n",
      " [0 3]]\n",
      "[[2 4]\n",
      " [2 3]]\n"
     ]
    }
   ],
   "source": [
    "import numpy as np\n",
    "a = np.array([[1,1],\n",
    "              [0,1]])\n",
    "b = np.arange(4).reshape((2,2))\n",
    "\n",
    "c=a*b\n",
    "c_dot = np.dot(a,b)\n",
    "c_dot_2=a.dot(b)\n",
    "\n",
    "\n",
    "print(c_dot)\n",
    "print(c_dot_2)"
   ]
  },
  {
   "cell_type": "code",
   "execution_count": 4,
   "metadata": {},
   "outputs": [
    {
     "name": "stdout",
     "output_type": "stream",
     "text": [
      "[[0.27846998 0.28969627 0.61505342 0.02088917]\n",
      " [0.94420307 0.69083327 0.10816598 0.67911991]]\n",
      "[1.20410883 2.42232223]\n",
      "[0.27846998 0.28969627 0.10816598 0.02088917]\n",
      "[0.61505342 0.94420307]\n"
     ]
    }
   ],
   "source": [
    "a=np.random.random((2,4))\n",
    "\n",
    "print(a)\n",
    "print(np.sum(a,axis=1)) #axis=1 在列中求和\n",
    "print(np.min(a,axis=0)) #axis=0 在行中求 最小值\n",
    "print(np.max(a,axis=1)) #axis=1 在列中求 最大值\n"
   ]
  },
  {
   "cell_type": "markdown",
   "metadata": {},
   "source": [
    "基礎運算2"
   ]
  },
  {
   "cell_type": "code",
   "execution_count": 2,
   "metadata": {},
   "outputs": [
    {
     "name": "stdout",
     "output_type": "stream",
     "text": [
      "[[ 2  3  4  5]\n",
      " [ 6  7  8  9]\n",
      " [10 11 12 13]]\n",
      "0\n",
      "11\n",
      "7.5\n",
      "7.5\n",
      "7.5\n",
      "7.5\n",
      "[ 2  5  9 14 20 27 35 44 54 65 77 90]\n",
      "[[1 1 1]\n",
      " [1 1 1]\n",
      " [1 1 1]]\n",
      "(array([0, 0, 0, 0, 1, 1, 1, 1, 2, 2, 2, 2], dtype=int64), array([0, 1, 2, 3, 0, 1, 2, 3, 0, 1, 2, 3], dtype=int64))\n"
     ]
    }
   ],
   "source": [
    "import numpy as np\n",
    "\n",
    "A=np.arange(2,14).reshape((3,4))\n",
    "\n",
    "print(A)\n",
    "print(np.argmin(A)) #最小索引\n",
    "print(np.argmax(A)) #最大索引\n",
    "\n",
    "print(np.mean(A))  #平均\n",
    "print(A.mean())\n",
    "print(np.average(A))\n",
    "\n",
    "print(np.median(A)) #中位數\n",
    "print(np.cumsum(A)) #累加\n",
    "print(np.diff(A))   #累差\n",
    "\n",
    "print(np.nonzero(A)) #非0 值的位置"
   ]
  },
  {
   "cell_type": "code",
   "execution_count": 36,
   "metadata": {},
   "outputs": [
    {
     "name": "stdout",
     "output_type": "stream",
     "text": [
      "[[14 13 12 11]\n",
      " [10  9  8  7]\n",
      " [ 6  5  4  3]]\n",
      "[[11 12 13 14]\n",
      " [ 7  8  9 10]\n",
      " [ 3  4  5  6]]\n",
      "[[14 10  6]\n",
      " [13  9  5]\n",
      " [12  8  4]\n",
      " [11  7  3]]\n",
      "[[332 302 272 242]\n",
      " [302 275 248 221]\n",
      " [272 248 224 200]\n",
      " [242 221 200 179]]\n"
     ]
    }
   ],
   "source": [
    "A=np.arange(14,2,-1).reshape((3,4))\n",
    "print(A)\n",
    "print(np.sort(A)) #有排序的\n",
    "\n",
    "print(np.transpose(A)) #反矩正\n",
    "print((A.T).dot(A))\n"
   ]
  },
  {
   "cell_type": "code",
   "execution_count": 38,
   "metadata": {},
   "outputs": [
    {
     "name": "stdout",
     "output_type": "stream",
     "text": [
      "[[14 13 12 11]\n",
      " [10  9  8  7]\n",
      " [ 6  5  4  3]]\n",
      "[[9 9 9 9]\n",
      " [9 9 8 7]\n",
      " [6 5 5 5]]\n",
      "[10.  9.  8.  7.]\n"
     ]
    }
   ],
   "source": [
    "A=np.arange(14,2,-1).reshape((3,4))\n",
    "print(A)\n",
    "print(np.clip(A,5,9)) #<5皆=5 >9皆=9\n",
    "\n",
    "print(np.mean(A,axis=0)) #axis 可對行列進行平均數計算"
   ]
  },
  {
   "cell_type": "code",
   "execution_count": null,
   "metadata": {},
   "outputs": [],
   "source": []
  }
 ],
 "metadata": {
  "kernelspec": {
   "display_name": "Python 3",
   "language": "python",
   "name": "python3"
  },
  "language_info": {
   "codemirror_mode": {
    "name": "ipython",
    "version": 3
   },
   "file_extension": ".py",
   "mimetype": "text/x-python",
   "name": "python",
   "nbconvert_exporter": "python",
   "pygments_lexer": "ipython3",
   "version": "3.6.5"
  }
 },
 "nbformat": 4,
 "nbformat_minor": 2
}
