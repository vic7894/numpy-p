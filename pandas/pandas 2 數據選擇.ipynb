{
 "cells": [
  {
   "cell_type": "markdown",
   "metadata": {},
   "source": [
    "數據選擇#2"
   ]
  },
  {
   "cell_type": "code",
   "execution_count": 1,
   "metadata": {},
   "outputs": [
    {
     "name": "stdout",
     "output_type": "stream",
     "text": [
      "             A   B   C   D\n",
      "2013-01-01   0   1   2   3\n",
      "2013-01-02   4   5   6   7\n",
      "2013-01-03   8   9  10  11\n",
      "2013-01-04  12  13  14  15\n",
      "2013-01-05  16  17  18  19\n",
      "2013-01-06  20  21  22  23\n",
      "            A   C\n",
      "2013-01-01  0   2\n",
      "2013-01-02  4   6\n",
      "2013-01-03  8  10\n"
     ]
    },
    {
     "name": "stderr",
     "output_type": "stream",
     "text": [
      "C:\\ProgramData\\Anaconda3\\lib\\site-packages\\ipykernel_launcher.py:20: DeprecationWarning: \n",
      ".ix is deprecated. Please use\n",
      ".loc for label based indexing or\n",
      ".iloc for positional indexing\n",
      "\n",
      "See the documentation here:\n",
      "http://pandas.pydata.org/pandas-docs/stable/indexing.html#ix-indexer-is-deprecated\n"
     ]
    }
   ],
   "source": [
    "import pandas as pd\n",
    "import numpy as np\n",
    "\n",
    "dates=pd.date_range('20130101',periods=6)\n",
    "df=pd.DataFrame(np.arange(24).reshape((6,4)),index=dates,columns=['A','B','C','D'])\n",
    "print(df)\n",
    "#print(df['A'],df.A)\n",
    "#print(df[0:3],df['20130102':'20130104'])\n",
    "\n",
    "#select by label; loc\n",
    "#print(df.loc['20130102'])\n",
    "#print(df.loc[:,['A','B']])\n",
    "#print(df.loc['20130102',['A','B']])\n",
    "\n",
    "#select by position: iloc\n",
    "#print(df.iloc[3,0])\n",
    "#print(df.iloc[[1,3,5],1:3])\n",
    "\n",
    "##mixed selection: ix\n",
    "print(df.ix[:3,['A','C']])  \n",
    "\n",
    "#Boolean indexing\n",
    "#print(df)\n",
    "#print(df[df.A>8])"
   ]
  },
  {
   "cell_type": "markdown",
   "metadata": {},
   "source": [
    "設置值#3"
   ]
  },
  {
   "cell_type": "code",
   "execution_count": 25,
   "metadata": {},
   "outputs": [
    {
     "name": "stdout",
     "output_type": "stream",
     "text": [
      "             A   B   C   D\n",
      "2013-01-01   0   1   2   3\n",
      "2013-01-02   4   5   6   7\n",
      "2013-01-03   8   9  10  11\n",
      "2013-01-04  12  13  14  15\n",
      "2013-01-05  16  17  18  19\n",
      "2013-01-06  20  21  22  23\n"
     ]
    }
   ],
   "source": [
    "import pandas as pd\n",
    "import numpy as np\n",
    "\n",
    "dates=pd.date_range('20130101',periods=6)\n",
    "df=pd.DataFrame(np.arange(24).reshape((6,4)),index=dates,columns=['A','B','C','D'])\n",
    "print(df)"
   ]
  },
  {
   "cell_type": "code",
   "execution_count": 30,
   "metadata": {},
   "outputs": [
    {
     "name": "stdout",
     "output_type": "stream",
     "text": [
      "             A    B     C   D   F  E\n",
      "2013-01-01   0  222     2   3 NaN  1\n",
      "2013-01-02   4    5     6   7 NaN  2\n",
      "2013-01-03   8    0  1111  11 NaN  3\n",
      "2013-01-04  12    0    14  15 NaN  4\n",
      "2013-01-05  16    0    18  19 NaN  5\n",
      "2013-01-06  20    0    22  23 NaN  6\n"
     ]
    }
   ],
   "source": [
    "dates=pd.date_range('20130101',periods=6)\n",
    "df=pd.DataFrame(np.arange(24).reshape((6,4)),index=dates,columns=['A','B','C','D'])\n",
    "\n",
    "df.iloc[2,2] = 1111\n",
    "df.loc['20130101','B'] = 222\n",
    "#df[df.A>4]=0    #表示在df.A中>4所對應的列df皆改=0    \n",
    "df.B[df.A>4]=0\n",
    "df['F']=np.nan\n",
    "df['E']=pd.Series([1,2,3,4,5,6],index=pd.date_range('20130101',periods=6))\n",
    "print(df)"
   ]
  },
  {
   "cell_type": "markdown",
   "metadata": {},
   "source": [
    "Pandas 處理丟失數據 #4"
   ]
  },
  {
   "cell_type": "code",
   "execution_count": 41,
   "metadata": {},
   "outputs": [
    {
     "name": "stdout",
     "output_type": "stream",
     "text": [
      "             A     B     C   D\n",
      "2013-01-01   0   NaN   2.0   3\n",
      "2013-01-02   4   5.0   NaN   7\n",
      "2013-01-03   8   9.0  10.0  11\n",
      "2013-01-04  12  13.0  14.0  15\n",
      "2013-01-05  16  17.0  18.0  19\n",
      "2013-01-06  20  21.0  22.0  23\n",
      "True\n"
     ]
    }
   ],
   "source": [
    "import pandas as pd\n",
    "import numpy as np\n",
    "\n",
    "dates = pd.date_range('20130101', periods=6)\n",
    "df = pd.DataFrame(np.arange(24).reshape((6,4)),index=dates, columns=['A','B','C','D'])\n",
    "df.iloc[0,1] = np.nan\n",
    "df.iloc[1,2] = np.nan\n",
    "#df['B'].fillna(value=0,inplace=True)\n",
    "\n",
    "print(df)\n",
    "#print(df.dropna(axis=1,how='any')) #how={'any','all'}  #all時需全為NAN 才會整列(行)都被刪除\n",
    "#print(df.fillna(value=0))  # fillna:將nan填上數據\n",
    "print(np.any(df.isnull()) == True)      #isnull返回是否有缺失數據\n",
    "\n"
   ]
  },
  {
   "cell_type": "code",
   "execution_count": null,
   "metadata": {},
   "outputs": [],
   "source": []
  }
 ],
 "metadata": {
  "kernelspec": {
   "display_name": "Python 3",
   "language": "python",
   "name": "python3"
  },
  "language_info": {
   "codemirror_mode": {
    "name": "ipython",
    "version": 3
   },
   "file_extension": ".py",
   "mimetype": "text/x-python",
   "name": "python",
   "nbconvert_exporter": "python",
   "pygments_lexer": "ipython3",
   "version": "3.6.5"
  }
 },
 "nbformat": 4,
 "nbformat_minor": 2
}
